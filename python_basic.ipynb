{
  "nbformat": 4,
  "nbformat_minor": 0,
  "metadata": {
    "colab": {
      "provenance": [],
      "toc_visible": true,
      "authorship_tag": "ABX9TyOc3ALMD6ObDXD6eOkycp0s",
      "include_colab_link": true
    },
    "kernelspec": {
      "name": "python3",
      "display_name": "Python 3"
    },
    "language_info": {
      "name": "python"
    }
  },
  "cells": [
    {
      "cell_type": "markdown",
      "metadata": {
        "id": "view-in-github",
        "colab_type": "text"
      },
      "source": [
        "<a href=\"https://colab.research.google.com/github/SeongUkJang/python-basic/blob/main/python_basic.ipynb\" target=\"_parent\"><img src=\"https://colab.research.google.com/assets/colab-badge.svg\" alt=\"Open In Colab\"/></a>"
      ]
    },
    {
      "cell_type": "markdown",
      "source": [
        "# 1. 자료형 출력하기"
      ],
      "metadata": {
        "id": "oaOqatL-Tumd"
      }
    },
    {
      "cell_type": "code",
      "source": [
        "print(\"hello python!\")"
      ],
      "metadata": {
        "colab": {
          "base_uri": "https://localhost:8080/"
        },
        "id": "Tssndmr-UCbV",
        "outputId": "117b5ebd-82a6-4c6c-8541-cf0442de0bd7"
      },
      "execution_count": null,
      "outputs": [
        {
          "output_type": "stream",
          "name": "stdout",
          "text": [
            "hello python!\n"
          ]
        }
      ]
    },
    {
      "cell_type": "code",
      "source": [
        "#int\n",
        "x = 10\n",
        "y = -5\n",
        "z = x + y\n",
        "print(f\"x: {x}, y: {y}, z: {z}\")  # x: 10, y: -5, z: 5"
      ],
      "metadata": {
        "colab": {
          "base_uri": "https://localhost:8080/"
        },
        "id": "z8xMNDpDXi9m",
        "outputId": "855d1665-7c12-4f59-ff5b-4094ae03f28c"
      },
      "execution_count": null,
      "outputs": [
        {
          "output_type": "stream",
          "name": "stdout",
          "text": [
            "x: 10, y: -5, z: 5\n"
          ]
        }
      ]
    },
    {
      "cell_type": "code",
      "source": [
        "#float\n",
        "pi = 3.14159\n",
        "radius = 5\n",
        "area = pi * (radius ** 2)\n",
        "print(f\"원의 면적: {area}\")  # 원의 면적: 78.53975"
      ],
      "metadata": {
        "colab": {
          "base_uri": "https://localhost:8080/"
        },
        "id": "zZoEkQXUXpOt",
        "outputId": "f41fd0e4-8c2d-4cf8-c26b-09c5beacef74"
      },
      "execution_count": null,
      "outputs": [
        {
          "output_type": "stream",
          "name": "stdout",
          "text": [
            "원의 면적: 78.53975\n"
          ]
        }
      ]
    },
    {
      "cell_type": "code",
      "source": [
        "#str\n",
        "name = \"John\"\n",
        "greeting = f\"Hello, {name}!\"\n",
        "print(greeting)  # Hello, John!"
      ],
      "metadata": {
        "colab": {
          "base_uri": "https://localhost:8080/"
        },
        "id": "XuysDcIjX4MN",
        "outputId": "d67576ca-bdd4-4aba-b332-42063c1743f4"
      },
      "execution_count": null,
      "outputs": [
        {
          "output_type": "stream",
          "name": "stdout",
          "text": [
            "Hello, John!\n"
          ]
        }
      ]
    },
    {
      "cell_type": "code",
      "source": [
        "#boolean\n",
        "is_active=True\n",
        "is_looed_in=False\n",
        "if is_active:\n",
        "  print(\"활성화 상태입니다.\")\n",
        "else:\n",
        "  print(\"비활성화 상태입니다.\")\n",
        "\n",
        "  if is_looed_in:\n",
        "    print(\"로그인 상태입니다.\")\n",
        "  else:\n",
        "    print(\"로그아웃 상태입니다.\")"
      ],
      "metadata": {
        "colab": {
          "base_uri": "https://localhost:8080/"
        },
        "id": "ztndSpCIX7k9",
        "outputId": "865e21f6-381a-4ec3-8bda-6cf62818916e"
      },
      "execution_count": null,
      "outputs": [
        {
          "output_type": "stream",
          "name": "stdout",
          "text": [
            "활성화 상태입니다.\n"
          ]
        }
      ]
    },
    {
      "cell_type": "code",
      "source": [
        "#list\n",
        "numbers =[1,2,3,4,5]\n",
        "numbers.append(6)\n",
        "print(numbers)\n",
        "print(f\"리스트의 길이:{len(numbers)}\")"
      ],
      "metadata": {
        "colab": {
          "base_uri": "https://localhost:8080/"
        },
        "id": "EHVTF8-OX6BT",
        "outputId": "4f0bd74e-f1f3-48a1-fb2b-8d17b62ebb07"
      },
      "execution_count": null,
      "outputs": [
        {
          "output_type": "stream",
          "name": "stdout",
          "text": [
            "[1, 2, 3, 4, 5, 6]\n",
            "리스트의 길이:6\n"
          ]
        }
      ]
    },
    {
      "cell_type": "code",
      "source": [
        "#tuple\n",
        "coordinates = (10, 20)\n",
        "print(coordinates)  # (10, 20)"
      ],
      "metadata": {
        "colab": {
          "base_uri": "https://localhost:8080/"
        },
        "id": "2gDauZ6HYTe0",
        "outputId": "17aa27cf-68cf-4234-cf97-2543adf96d37"
      },
      "execution_count": null,
      "outputs": [
        {
          "output_type": "stream",
          "name": "stdout",
          "text": [
            "(10, 20)\n"
          ]
        }
      ]
    },
    {
      "cell_type": "code",
      "source": [
        "#dict\n",
        "person = {\"name\": \"Alice\", \"age\": 25, \"city\": \"New York\"}\n",
        "person[\"age\"] = 26\n",
        "person[\"job\"] = \"Developer\"\n",
        "print(person)"
      ],
      "metadata": {
        "colab": {
          "base_uri": "https://localhost:8080/"
        },
        "id": "DbIWLH68YYIi",
        "outputId": "4355a6c9-eaf5-4667-cdf5-07dc6bdb8a35"
      },
      "execution_count": null,
      "outputs": [
        {
          "output_type": "stream",
          "name": "stdout",
          "text": [
            "{'name': 'Alice', 'age': 26, 'city': 'New York', 'job': 'Developer'}\n"
          ]
        }
      ]
    },
    {
      "cell_type": "code",
      "source": [
        "#set\n",
        "unique_numbers = {1, 2, 3, 4, 4, 5}\n",
        "unique_numbers.add(6)\n",
        "unique_numbers.remove(2)\n",
        "print(unique_numbers)"
      ],
      "metadata": {
        "id": "AXhv4Zx0Yfii",
        "outputId": "fedee95e-fc2f-48cf-b00a-b4e39b83e31d",
        "colab": {
          "base_uri": "https://localhost:8080/"
        }
      },
      "execution_count": null,
      "outputs": [
        {
          "output_type": "stream",
          "name": "stdout",
          "text": [
            "{1, 3, 4, 5, 6}\n"
          ]
        }
      ]
    },
    {
      "cell_type": "markdown",
      "source": [
        "# 2. 문자열 처리\n"
      ],
      "metadata": {
        "id": "hxvLExlBbORZ"
      }
    },
    {
      "cell_type": "code",
      "source": [
        "text = \"hello python\"\n",
        "print(text)\n",
        "print(text[0])\n",
        "print(text[-1])\n",
        "print(text[0:5])\n",
        "print(text[6:])\n",
        "print(text[:5])\n"
      ],
      "metadata": {
        "colab": {
          "base_uri": "https://localhost:8080/"
        },
        "id": "A1x6cMlQbSpH",
        "outputId": "e01c9ad1-a33e-4c2c-ad42-dfa562c5fa39"
      },
      "execution_count": null,
      "outputs": [
        {
          "output_type": "stream",
          "name": "stdout",
          "text": [
            "hello python\n",
            "h\n",
            "n\n",
            "hello\n",
            "python\n",
            "hello\n"
          ]
        }
      ]
    },
    {
      "cell_type": "code",
      "source": [
        "name = \"Alice\"\n",
        "age = 25\n",
        "print(f\"{name}의 나이는 {age}세 입니다\")\n",
        "print(\"{}의 나이는 {}세입니다.\".format(name, age))\n",
        "print(\"%s의 나이는 %d세입니다.\" % (name, age))"
      ],
      "metadata": {
        "colab": {
          "base_uri": "https://localhost:8080/"
        },
        "id": "jpE8DR4LbgcA",
        "outputId": "f14fb36f-d08b-43a8-ba34-d888eac2b492"
      },
      "execution_count": null,
      "outputs": [
        {
          "output_type": "stream",
          "name": "stdout",
          "text": [
            "Alice의 나이는 25세 입니다\n",
            "Alice의 나이는 25세입니다.\n",
            "Alice의 나이는 25세입니다.\n"
          ]
        }
      ]
    },
    {
      "cell_type": "markdown",
      "source": [
        "# 3. 사용자입력"
      ],
      "metadata": {
        "id": "yng5csvIeT66"
      }
    },
    {
      "cell_type": "code",
      "source": [
        "name = input(\"이름을 입력하세요: \")\n",
        "age = input(\"나이를 입력하세요: \" )\n",
        "print(f\"{name}님 안녕하세요! 당신의 나이는 {age}세 입니다\")\n"
      ],
      "metadata": {
        "colab": {
          "base_uri": "https://localhost:8080/"
        },
        "id": "gNNmhOU0eWYR",
        "outputId": "ca975411-f1bc-4593-b077-ce7b6bb73764"
      },
      "execution_count": null,
      "outputs": [
        {
          "output_type": "stream",
          "name": "stdout",
          "text": [
            "이름을 입력하세요: a\n",
            "나이를 입력하세요: 12\n",
            "안녕하세요, a\n",
            "a님 안녕하세요! 당신의 나이는 12세 입니다\n"
          ]
        }
      ]
    },
    {
      "cell_type": "code",
      "source": [
        "x, y = input(\"두 숫자를 입력하세요 (예: 10 20): \").split()\n",
        "print(int(x) + int(y))"
      ],
      "metadata": {
        "colab": {
          "base_uri": "https://localhost:8080/"
        },
        "id": "wRV9iZIke10o",
        "outputId": "5c8d6aa9-0956-43aa-a3e7-a0814c61adb2"
      },
      "execution_count": null,
      "outputs": [
        {
          "output_type": "stream",
          "name": "stdout",
          "text": [
            "두 숫자를 입력하세요 (예: 10 20): 10 20\n",
            "30\n"
          ]
        }
      ]
    },
    {
      "cell_type": "code",
      "source": [],
      "metadata": {
        "id": "ZCqF8M8veug6"
      },
      "execution_count": null,
      "outputs": []
    },
    {
      "cell_type": "markdown",
      "source": [
        "# 4. 연산자"
      ],
      "metadata": {
        "id": "xaH3K89VfrgY"
      }
    },
    {
      "cell_type": "code",
      "source": [
        "a= int(input(\"첫 번째 숫자를 입력하세요: \"))\n",
        "b= int(input(\"두 번째 숫자를 입력하세요: \"))\n",
        "print(\"덧셈 : \", a+b)\n",
        "print(\"뺄셈 : \", a-b)\n",
        "print(\"곱셈 : \", a*b)\n",
        "print(\"나눗셈 : \", a/b)\n",
        "print(\"나머지 : \", a%b)\n",
        "print(\"거듭제곱 : \", a**b)"
      ],
      "metadata": {
        "colab": {
          "base_uri": "https://localhost:8080/"
        },
        "id": "cH1luzQnft1e",
        "outputId": "e894f445-5395-446c-8693-5cdda56b37e0"
      },
      "execution_count": null,
      "outputs": [
        {
          "output_type": "stream",
          "name": "stdout",
          "text": [
            "첫 번째 숫자를 입력하세요: 10\n",
            "두 번째 숫자를 입력하세요: 5\n",
            "덧셈 :  15\n",
            "뺄셈 :  5\n",
            "곱셈 :  50\n",
            "나눗셈 :  2.0\n",
            "나머지 :  0\n",
            "거듭제곱 :  100000\n"
          ]
        }
      ]
    },
    {
      "cell_type": "code",
      "source": [
        "age = int(input(\"나이를 입력하세요: \"))\n",
        "\n",
        "is_teenager = age >= 13 and age <= 19\n",
        "\n",
        "print(\"청소년 여부:\", is_teenager)"
      ],
      "metadata": {
        "colab": {
          "base_uri": "https://localhost:8080/"
        },
        "id": "8rYTMt0pgjh2",
        "outputId": "dff564e6-b4f5-4223-c7ac-a8c911712180"
      },
      "execution_count": null,
      "outputs": [
        {
          "output_type": "stream",
          "name": "stdout",
          "text": [
            "나이를 입력하세요: 18\n",
            "청소년 여부: True\n"
          ]
        }
      ]
    },
    {
      "cell_type": "code",
      "source": [
        "score = int(input(\"점수를 입력하세요: \"))\n",
        "\n",
        "if score >= 60:\n",
        "    print(\"합격입니다!\")\n",
        "else:\n",
        "    print(\"불합격입니다.\")"
      ],
      "metadata": {
        "colab": {
          "base_uri": "https://localhost:8080/"
        },
        "id": "xeK_15Bihj-6",
        "outputId": "3b15fefb-c9d9-4b99-bc24-91730972471b"
      },
      "execution_count": null,
      "outputs": [
        {
          "output_type": "stream",
          "name": "stdout",
          "text": [
            "점수를 입력하세요: 70\n",
            "합격입니다!\n"
          ]
        }
      ]
    },
    {
      "cell_type": "markdown",
      "source": [
        "# 5.실습문제"
      ],
      "metadata": {
        "id": "lowySWnLiw3K"
      }
    },
    {
      "cell_type": "code",
      "source": [
        "# 사용자로부터 이름과 나이를 입력받아 다음 형식으로 출력하시오.\n",
        "name = input(\"이름을 입력하세요: \")\n",
        "age = input(\"나이를 입력하세요: \" )\n",
        "print(f\"{name} 님은 {age}세 입니다\")"
      ],
      "metadata": {
        "colab": {
          "base_uri": "https://localhost:8080/"
        },
        "id": "pqj1dne-izzD",
        "outputId": "93ec66a1-1695-4603-bca4-327e3a2f5ca3"
      },
      "execution_count": null,
      "outputs": [
        {
          "output_type": "stream",
          "name": "stdout",
          "text": [
            "이름을 입력하세요: 홍길동\n",
            "나이를 입력하세요: 25\n",
            "홍길동 님은 25세 입니다\n"
          ]
        }
      ]
    },
    {
      "cell_type": "code",
      "source": [
        "# 두 개의 정수를 입력받아, 덧셈 결과를 출력하시오.\n",
        "x, y = input(\"두 숫자를 입력하세요 (예: 10 20): \").split()\n",
        "print(int(x) + int(y))"
      ],
      "metadata": {
        "id": "1VBFryjyi4j4"
      },
      "execution_count": null,
      "outputs": []
    },
    {
      "cell_type": "code",
      "source": [
        "# 사용자로부터 반지름을 입력받아 원의 넓이를 계산하시오.\n",
        "radius = int(input(\"반지름을 입력하세요: \"))\n",
        "pi = 3.14159\n",
        "area = pi * (radius ** 2)\n",
        "print(f\"원의 면적: {area}\")\n",
        "area = pi * (radius ** 2)\n",
        "print(f\"원의 면적: {area}\")"
      ],
      "metadata": {
        "colab": {
          "base_uri": "https://localhost:8080/"
        },
        "id": "6I1K-U8Mi8gv",
        "outputId": "0f4073c3-1af3-493b-e4ea-f61ab59e4d69"
      },
      "execution_count": null,
      "outputs": [
        {
          "output_type": "stream",
          "name": "stdout",
          "text": [
            "반지름을 입력하세요: 10\n",
            "원의 면적: 314.159\n",
            "원의 면적: 314.159\n"
          ]
        }
      ]
    },
    {
      "cell_type": "code",
      "source": [
        "# 사용자로부터 정수를 입력받아 짝수인지 홀수인지 판별하시오.\n",
        "num = int(input(\"정수를 입력하세요: \"))\n",
        "if num % 2 == 0:\n",
        "    print(\"짝수입니다.\")\n",
        "else:\n",
        "    print(\"홀수입니다.\")"
      ],
      "metadata": {
        "id": "d9imd0Lni-tf"
      },
      "execution_count": null,
      "outputs": []
    },
    {
      "cell_type": "code",
      "source": [
        "# 사용자로부터 키(cm)와 몸무게(kg)를 입력받아 BMI 지수를 계산하시오.\n",
        "height = int(input(\"키를 입력하세요 (cm): \"))\n",
        "weight = int(input(\"몸무게를 입력하세요 (kg): \"))\n",
        "bmi = weight / ((height / 100) ** 2)\n",
        "print(f\"BMI 지수: {bmi:2f}\")\n"
      ],
      "metadata": {
        "colab": {
          "base_uri": "https://localhost:8080/"
        },
        "id": "A3E44KSxjBZv",
        "outputId": "eed0f8d3-1ef4-4fe8-a976-27ef7ee3ffed"
      },
      "execution_count": null,
      "outputs": [
        {
          "output_type": "stream",
          "name": "stdout",
          "text": [
            "키를 입력하세요 (cm): 190\n",
            "몸무게를 입력하세요 (kg): 100\n",
            "BMI 지수: 27.700831\n"
          ]
        }
      ]
    },
    {
      "cell_type": "markdown",
      "source": [
        "# 6. 조건문"
      ],
      "metadata": {
        "id": "DKYJPyM_rn_i"
      }
    },
    {
      "cell_type": "code",
      "source": [
        "x=int(input(\"숫자를 입력하세요\"))\n",
        "\n",
        "if x > 10:\n",
        "    print(\"x는 10보다 큽니다.\")\n",
        "elif x > 5:\n",
        "    print(\"x는 5보다 큽니다.\")\n",
        "else:\n",
        "    print(\"x는 5보다 작거나 같습니다.\")\n"
      ],
      "metadata": {
        "colab": {
          "base_uri": "https://localhost:8080/"
        },
        "id": "ITCijcuKruFq",
        "outputId": "ef027335-71a6-48f5-8a8c-e8d98402425a"
      },
      "execution_count": null,
      "outputs": [
        {
          "output_type": "stream",
          "name": "stdout",
          "text": [
            "숫자를 입력하세요10\n",
            "x는 5보다 큽니다.\n"
          ]
        }
      ]
    },
    {
      "cell_type": "code",
      "source": [
        "age = 20\n",
        "student = True\n",
        "\n",
        "if age >= 18:\n",
        "    if student:\n",
        "        print(\"성인 학생입니다.\")\n",
        "    else:\n",
        "        print(\"성인이지만 학생은 아닙니다.\")"
      ],
      "metadata": {
        "colab": {
          "base_uri": "https://localhost:8080/"
        },
        "id": "mCIcNtE7vUO4",
        "outputId": "b82ae6b3-6de1-49c3-f01d-cecc3ea86b70"
      },
      "execution_count": null,
      "outputs": [
        {
          "output_type": "stream",
          "name": "stdout",
          "text": [
            "성인 학생입니다.\n"
          ]
        }
      ]
    },
    {
      "cell_type": "code",
      "source": [
        "x = 3\n",
        "result = \"x는 5보다 큽니다.\" if x > 5 else \"x는 5보다 작거나 같습니다.\"\n",
        "print(result)"
      ],
      "metadata": {
        "colab": {
          "base_uri": "https://localhost:8080/"
        },
        "id": "7k16KymavXPI",
        "outputId": "833e7764-73cc-467b-a286-89f96e986926"
      },
      "execution_count": null,
      "outputs": [
        {
          "output_type": "stream",
          "name": "stdout",
          "text": [
            "x는 5보다 작거나 같습니다.\n"
          ]
        }
      ]
    },
    {
      "cell_type": "code",
      "source": [
        "x = 10\n",
        "y = 20\n",
        "\n",
        "if x == y:\n",
        "    print(\"x와 y는 같습니다.\")\n",
        "elif x != y:\n",
        "    print(\"x와 y는 다릅니다.\")\n"
      ],
      "metadata": {
        "colab": {
          "base_uri": "https://localhost:8080/"
        },
        "id": "DlzvAcL_vZVQ",
        "outputId": "2d1ffc6a-32b0-481c-a1e7-a64b7f80b2af"
      },
      "execution_count": null,
      "outputs": [
        {
          "output_type": "stream",
          "name": "stdout",
          "text": [
            "x와 y는 다릅니다.\n"
          ]
        }
      ]
    },
    {
      "cell_type": "code",
      "source": [
        "my_list = [1, 2, 3, 4, 5]\n",
        "\n",
        "if 3 in my_list:\n",
        "    print(\"리스트에 3이 포함되어 있습니다.\")\n",
        "\n",
        "if 6 not in my_list:\n",
        "    print(\"리스트에 6이 포함되어 있지 않습니다.\")"
      ],
      "metadata": {
        "colab": {
          "base_uri": "https://localhost:8080/"
        },
        "id": "G2QANvF_vezv",
        "outputId": "b445fe15-657f-4c6d-890a-acd25f161750"
      },
      "execution_count": null,
      "outputs": [
        {
          "output_type": "stream",
          "name": "stdout",
          "text": [
            "리스트에 3이 포함되어 있습니다.\n",
            "리스트에 6이 포함되어 있지 않습니다.\n"
          ]
        }
      ]
    },
    {
      "cell_type": "markdown",
      "source": [
        "# 7. 실습문제"
      ],
      "metadata": {
        "id": "2KYw-YXLvr7T"
      }
    },
    {
      "cell_type": "code",
      "source": [
        "#사용자로부터 정수를 입력받아 양수, 음수, 0 중 어떤 값인지 출력하세요\n",
        "num = int(input(\"정수를 입력하세요: \"))\n",
        "if num > 0:\n",
        "    print(\"양수입니다.\")\n",
        "elif num < 0:\n",
        "    print(\"음수입니다.\")\n",
        "else:\n",
        "    print(\"0입니다.\")"
      ],
      "metadata": {
        "id": "uwW7XPhMvuia"
      },
      "execution_count": null,
      "outputs": []
    },
    {
      "cell_type": "code",
      "source": [
        "#사용자로부터 정수를 입력받아 짝수인지 홀수인지 출력하세요.\n",
        "num = int(input(\"정수를 입력하세요: \"))\n",
        "\n",
        "if num % 2 == 0:\n",
        "    print(\"짝수입니다.\")\n",
        "else:\n",
        "    print(\"홀수입니다.\")"
      ],
      "metadata": {
        "id": "EghAi4p87yjJ"
      },
      "execution_count": null,
      "outputs": []
    },
    {
      "cell_type": "code",
      "source": [
        "#두 개의 정수를 입력받아 더 큰 값을 출력하세요.\n",
        "num1 = int(input(\"첫 번째 정수를 입력하세요: \"))\n",
        "num2 = int(input(\"두 번째 정수를 입력하세요: \"))\n",
        "\n",
        "if num1 > num2:\n",
        "  print(f\"더 큰 수는 {num1} 입니다.\")\n",
        "elif num2 > num1:\n",
        "  print(f\"더 큰 수는 {num2} 입니다.\")\n",
        "else:\n",
        "  print(\"두 숫자는 같습니다.\")"
      ],
      "metadata": {
        "id": "Q3z33c0j70M4"
      },
      "execution_count": null,
      "outputs": []
    },
    {
      "cell_type": "code",
      "source": [
        "#점수를 입력받아 아래 기준에 따라 학점을 출력하세요.\n",
        "#- 90점 이상: A\n",
        "#- 80점 이상: B\n",
        "#- 70점 이상: C\n",
        "#- 60점 이상: D\n",
        "#- 그 외: F\n",
        "\n",
        "score = int(input(\"점수를 입력하세요: \"))\n",
        "\n",
        "if score >= 90:\n",
        "    print(\"학점: A\")\n",
        "elif score >= 80:\n",
        "    print(\"학점: B\")\n",
        "elif score >= 70:\n",
        "    print(\"학점: C\")\n",
        "elif score >= 60:\n",
        "    print(\"학점: D\")\n",
        "else:\n",
        "    print(\"학점: F\")"
      ],
      "metadata": {
        "id": "MwJvT8zk718g"
      },
      "execution_count": null,
      "outputs": []
    },
    {
      "cell_type": "code",
      "source": [
        "#숫자 리스트 [3, 7, 9, 12] 안에 입력받은 숫자가 있는지 확인하세요.\n",
        "my_list = [3, 7, 9, 12]\n",
        "num = int(input(\"숫자를 입력하세요: \"))\n",
        "\n",
        "if num in my_list:\n",
        "    print(f\"{num}은 리스트에 포함되어 있습니다.\")"
      ],
      "metadata": {
        "id": "FBdSnntb76wv"
      },
      "execution_count": null,
      "outputs": []
    },
    {
      "cell_type": "code",
      "source": [
        "#두 개의 정수를 입력받아 같으면 \"같습니다\", 다르면 \"다릅니다\"를 출력하세요.\n",
        "num1 = int(input(\"첫 번째 정수를 입력하세요: \"))\n",
        "num2 = int(input(\"두 번째 정수를 입력하세요: \"))\n",
        "\n",
        "if num1 == num2:\n",
        "    print(\"같습니다.\")\n",
        "else:\n",
        "    print(\"다릅니다.\")"
      ],
      "metadata": {
        "id": "gTGZIWq07_7g"
      },
      "execution_count": null,
      "outputs": []
    },
    {
      "cell_type": "code",
      "source": [
        "#사용자로부터 문자열을 입력받아 길이가 5자 이상이면 “길어요”, 아니면 “짧아요”를 출력하세요.\n",
        "text = input(\"문자열을 입력하세요: \")\n",
        "\n",
        "if len(text) >= 5:\n",
        "    print(\"길어요\")\n",
        "else:\n",
        "    print(\"짧아요\")"
      ],
      "metadata": {
        "id": "tqqV990-8BuH"
      },
      "execution_count": null,
      "outputs": []
    },
    {
      "cell_type": "code",
      "source": [
        "#정수를 입력받아 1 이상 100 이하인지 확인하고, 범위 안에 있으면 \"정상\", 아니면 \"범위 초과\"를 출력하세요.\n",
        "num = int(input(\"정수를 입력하세요: \"))\n",
        "\n",
        "if 1 <= num <= 100:\n",
        "    print(\"정상\")\n",
        "else:\n",
        "    print(\"범위 초과\")"
      ],
      "metadata": {
        "id": "1jkziqtH8Dwo"
      },
      "execution_count": null,
      "outputs": []
    },
    {
      "cell_type": "code",
      "source": [
        "#아이디는 \"admin\", 비밀번호는 \"1234\"일 때만 \"로그인 성공\"을 출력하세요.\n",
        "id = input(\"아이디를 입력하세요: \")\n",
        "pw = input(\"비밀번호를 입력하세요: \")\n",
        "\n",
        "if id == \"admin\" and pw == \"1234\":\n",
        "    print(\"로그인 성공\")"
      ],
      "metadata": {
        "id": "moP8Omji8F3f"
      },
      "execution_count": null,
      "outputs": []
    },
    {
      "cell_type": "code",
      "source": [
        "#정수를 입력받아 3의 배수인지 아닌지를 판별하세요.\n",
        "num = int(input(\"정수를 입력하세요: \"))\n",
        "\n",
        "if num % 3 == 0:\n",
        "    print(f\"{num}은(는) 3의 배수입니다.\")\n",
        "else:\n",
        "    print(f\"{num}은(는) 3의 배수가 아닙니다.\")"
      ],
      "metadata": {
        "id": "EtvQX-E88H0I"
      },
      "execution_count": null,
      "outputs": []
    },
    {
      "cell_type": "markdown",
      "source": [
        "# 8-1. 배열(리스트)"
      ],
      "metadata": {
        "id": "gpTJVwjz9g_D"
      }
    },
    {
      "cell_type": "code",
      "source": [
        "#과일 리스트 출력하기\n",
        "fruits = [\"사과\", \"바나나\", \"딸기\"]\n",
        "print(\"과일 목록:\")\n",
        "for f in fruits:\n",
        "    print(\"-\", f)"
      ],
      "metadata": {
        "colab": {
          "base_uri": "https://localhost:8080/"
        },
        "id": "RXAsTlFs9kyT",
        "outputId": "25ad0b64-703a-4ef2-a411-95ff3bb32404"
      },
      "execution_count": null,
      "outputs": [
        {
          "output_type": "stream",
          "name": "stdout",
          "text": [
            "과일 목록:\n",
            "- 사과\n",
            "- 바나나\n",
            "- 딸기\n"
          ]
        }
      ]
    },
    {
      "cell_type": "code",
      "source": [
        "#사용자에게 3개의 이름을 입력받아 리스트로 출력하기\n",
        "names = []\n",
        "\n",
        "for i in range(3):\n",
        "    name = input(f\"{i+1}번째 이름을 입력하세요: \")\n",
        "    names.append(name)\n",
        "\n",
        "print(\"입력한 이름들:\", names)"
      ],
      "metadata": {
        "colab": {
          "base_uri": "https://localhost:8080/"
        },
        "id": "XXiMAVLjAKOi",
        "outputId": "228fa2fa-c617-4fb7-82e9-8613ff9c7f8f"
      },
      "execution_count": null,
      "outputs": [
        {
          "output_type": "stream",
          "name": "stdout",
          "text": [
            "1번째 이름을 입력하세요: 1\n",
            "2번째 이름을 입력하세요: 2\n",
            "3번째 이름을 입력하세요: 3\n",
            "입력한 이름들: ['1', '2', '3']\n"
          ]
        }
      ]
    },
    {
      "cell_type": "markdown",
      "source": [
        "# 8-2 배열의 원소 조회"
      ],
      "metadata": {
        "id": "Ev4zglV-Dzyj"
      }
    },
    {
      "cell_type": "code",
      "source": [
        "#숫자 5개로 이루어진 리스트를 생성하고, 모든 요소의 합과 평균을 출력하시오.\n",
        "numbers = [10, 20, 30, 40, 50]\n",
        "total = sum(numbers)\n",
        "average = total / len(numbers)\n",
        "print(\"합:\", total)\n",
        "print(\"평균:\", average)"
      ],
      "metadata": {
        "colab": {
          "base_uri": "https://localhost:8080/"
        },
        "id": "9DNHekEnD2T5",
        "outputId": "120a282f-2b03-4f10-c996-0f3bc19bff9c"
      },
      "execution_count": null,
      "outputs": [
        {
          "output_type": "stream",
          "name": "stdout",
          "text": [
            "합: 150\n",
            "평균: 30.0\n"
          ]
        }
      ]
    },
    {
      "cell_type": "code",
      "source": [
        "#리스트에 저장된 점수 중 60점 이상만 출력하시오.\n",
        "scores = [85, 72, 90, 55, 68]\n",
        "for score in scores:\n",
        "    if score >= 60:\n",
        "        print(score)"
      ],
      "metadata": {
        "colab": {
          "base_uri": "https://localhost:8080/"
        },
        "id": "QysK1c0fD414",
        "outputId": "8603ae7d-01c9-4647-bb6d-077d02868a31"
      },
      "execution_count": null,
      "outputs": [
        {
          "output_type": "stream",
          "name": "stdout",
          "text": [
            "85\n",
            "72\n",
            "90\n",
            "68\n"
          ]
        }
      ]
    },
    {
      "cell_type": "code",
      "source": [
        "#3명의 이름을 입력받아 리스트에 저장한 후 출력하시오.\n",
        "names = []\n",
        "for i in range(3):\n",
        "    name = input(f\"{i+1}번째 이름을 입력하세요: \")\n",
        "    names.append(name)\n",
        "print(\"입력한 이름들:\", names)"
      ],
      "metadata": {
        "colab": {
          "base_uri": "https://localhost:8080/"
        },
        "id": "JkwgnWeqD8TQ",
        "outputId": "014e8d53-38a1-44e2-d982-a6f5105b06bb"
      },
      "execution_count": null,
      "outputs": [
        {
          "output_type": "stream",
          "name": "stdout",
          "text": [
            "1번째 이름을 입력하세요: 1\n",
            "2번째 이름을 입력하세요: 2\n",
            "3번째 이름을 입력하세요: 3\n",
            "입력한 이름들: ['1', '2', '3']\n"
          ]
        }
      ]
    },
    {
      "cell_type": "code",
      "source": [
        "#사용자로부터 과일 이름 3개를 입력받아 리스트로 저장하고, 그 중 첫 번째 과일만 출력하시오.\n",
        "fruits = []\n",
        "for i in range(3):\n",
        "    fruit = input(f\"{i+1}번째 과일 이름을 입력하세요: \")\n",
        "    fruits.append(fruit)\n",
        "print(\"첫 번째 과일:\", fruits[0])"
      ],
      "metadata": {
        "colab": {
          "base_uri": "https://localhost:8080/"
        },
        "id": "54lpl0x4D99g",
        "outputId": "f596d9ad-f9dc-40fa-ba46-e6a58d36c521"
      },
      "execution_count": null,
      "outputs": [
        {
          "output_type": "stream",
          "name": "stdout",
          "text": [
            "1번째 과일 이름을 입력하세요: 1\n",
            "2번째 과일 이름을 입력하세요: 2\n",
            "3번째 과일 이름을 입력하세요: 3\n",
            "첫 번째 과일: 1\n"
          ]
        }
      ]
    },
    {
      "cell_type": "code",
      "source": [
        "#리스트 [1, 2, 3, 4, 5]에서 짝수만 새로운 리스트에 담고 출력하시오.\n",
        "numbers = [1, 2, 3, 4, 5]\n",
        "even_numbers = [num for num in numbers if num % 2 == 0]\n",
        "print(\"짝수 리스트:\", even_numbers)"
      ],
      "metadata": {
        "colab": {
          "base_uri": "https://localhost:8080/"
        },
        "id": "-w1OviImEBMI",
        "outputId": "ca4a1561-752e-489a-f7fc-86984eb37835"
      },
      "execution_count": null,
      "outputs": [
        {
          "output_type": "stream",
          "name": "stdout",
          "text": [
            "짝수 리스트: [2, 4]\n"
          ]
        }
      ]
    },
    {
      "cell_type": "markdown",
      "source": [
        "# 실습문제"
      ],
      "metadata": {
        "id": "e0YWOGZFLNgq"
      }
    },
    {
      "cell_type": "code",
      "source": [
        "# 1부터 10까지 숫자를 한 줄씩 출력하시오.\n",
        "for i in range(1, 11):\n",
        "    print(i)"
      ],
      "metadata": {
        "colab": {
          "base_uri": "https://localhost:8080/"
        },
        "id": "BZgkrzgWLRAx",
        "outputId": "65fbeff7-dcc2-4c43-d060-26a6da957c5c"
      },
      "execution_count": null,
      "outputs": [
        {
          "output_type": "stream",
          "name": "stdout",
          "text": [
            "1\n",
            "2\n",
            "3\n",
            "4\n",
            "5\n",
            "6\n",
            "7\n",
            "8\n",
            "9\n",
            "10\n"
          ]
        }
      ]
    },
    {
      "cell_type": "code",
      "source": [
        "# 사용자로부터 정수 하나를 입력받아, 그 수만큼 \"안녕하세요\"를 출력하시오.\n",
        "num = int(input(\"정수를 입력하세요: \"))\n",
        "for i in range(num):\n",
        "    print(\"안녕하세요\")"
      ],
      "metadata": {
        "colab": {
          "base_uri": "https://localhost:8080/"
        },
        "id": "ay7wliDpLNL7",
        "outputId": "335185a4-7792-4929-cbc3-30f12e667920"
      },
      "execution_count": null,
      "outputs": [
        {
          "output_type": "stream",
          "name": "stdout",
          "text": [
            "정수를 입력하세요: 1\n",
            "안녕하세요\n"
          ]
        }
      ]
    },
    {
      "cell_type": "code",
      "source": [
        "# 1부터 100까지의 정수 중 짝수만 출력하시오.\n",
        "for i in range(1, 101):\n",
        "    if i % 2 == 0:\n",
        "        print(i)"
      ],
      "metadata": {
        "colab": {
          "base_uri": "https://localhost:8080/"
        },
        "id": "mt3lNAvhLgP_",
        "outputId": "85b3537d-0f80-4b78-bc9c-abf2922b6cae"
      },
      "execution_count": null,
      "outputs": [
        {
          "output_type": "stream",
          "name": "stdout",
          "text": [
            "2\n",
            "4\n",
            "6\n",
            "8\n",
            "10\n",
            "12\n",
            "14\n",
            "16\n",
            "18\n",
            "20\n",
            "22\n",
            "24\n",
            "26\n",
            "28\n",
            "30\n",
            "32\n",
            "34\n",
            "36\n",
            "38\n",
            "40\n",
            "42\n",
            "44\n",
            "46\n",
            "48\n",
            "50\n",
            "52\n",
            "54\n",
            "56\n",
            "58\n",
            "60\n",
            "62\n",
            "64\n",
            "66\n",
            "68\n",
            "70\n",
            "72\n",
            "74\n",
            "76\n",
            "78\n",
            "80\n",
            "82\n",
            "84\n",
            "86\n",
            "88\n",
            "90\n",
            "92\n",
            "94\n",
            "96\n",
            "98\n",
            "100\n"
          ]
        }
      ]
    },
    {
      "cell_type": "code",
      "source": [
        "# 사용자로부터 숫자 5개를 입력받아 리스트에 저장하고, 반복문을 사용하여 모두 출력하시오.\n",
        "numbers = []\n",
        "for i in range(5):\n",
        "    num = int(input(f\"{i+1}번째 숫자를 입력하세요: \"))\n",
        "    numbers.append(num)\n",
        "print(\"입력한 숫자들:\", numbers)"
      ],
      "metadata": {
        "colab": {
          "base_uri": "https://localhost:8080/"
        },
        "id": "bdtmMO2-Lkk5",
        "outputId": "36cfcac3-ce07-42f4-d14a-1de5808bc2c2"
      },
      "execution_count": null,
      "outputs": [
        {
          "output_type": "stream",
          "name": "stdout",
          "text": [
            "1번째 숫자를 입력하세요: 1\n",
            "2번째 숫자를 입력하세요: 2\n",
            "3번째 숫자를 입력하세요: 3\n",
            "4번째 숫자를 입력하세요: 4\n",
            "5번째 숫자를 입력하세요: 5\n",
            "입력한 숫자들: [1, 2, 3, 4, 5]\n"
          ]
        }
      ]
    },
    {
      "cell_type": "code",
      "source": [
        "# 1부터 10까지의 숫자를 더한 총합을 출력하시오.\n",
        "total = 0\n",
        "for i in range(1, 11):\n",
        "    total += i\n",
        "print(\"총합:\", total)"
      ],
      "metadata": {
        "colab": {
          "base_uri": "https://localhost:8080/"
        },
        "id": "xwjSVmASLoa2",
        "outputId": "fa25b053-ce07-47a0-eb99-d63a8fe2df76"
      },
      "execution_count": null,
      "outputs": [
        {
          "output_type": "stream",
          "name": "stdout",
          "text": [
            "총합: 55\n"
          ]
        }
      ]
    },
    {
      "cell_type": "markdown",
      "source": [
        "# 9-1 함수의정의"
      ],
      "metadata": {
        "id": "AtSNZ1K1LpY5"
      }
    },
    {
      "cell_type": "code",
      "source": [
        "def greet(name):\n",
        "    return f\"Hello, {name}!\"\n",
        "\n",
        "message = greet(\"Alice\")\n",
        "print(message)"
      ],
      "metadata": {
        "colab": {
          "base_uri": "https://localhost:8080/"
        },
        "id": "w6uEa7QqLrQQ",
        "outputId": "e05cde12-64c3-4281-9a16-836aaa65a77e"
      },
      "execution_count": null,
      "outputs": [
        {
          "output_type": "stream",
          "name": "stdout",
          "text": [
            "Hello, Alice!\n"
          ]
        }
      ]
    },
    {
      "cell_type": "code",
      "source": [
        "def add(a, b):\n",
        "    return a + b\n",
        "\n",
        "result = add(3, 5)\n",
        "print(result)"
      ],
      "metadata": {
        "colab": {
          "base_uri": "https://localhost:8080/"
        },
        "id": "RywDb6odNFMD",
        "outputId": "12fca818-4954-4583-9124-add8c3d0347c"
      },
      "execution_count": null,
      "outputs": [
        {
          "output_type": "stream",
          "name": "stdout",
          "text": [
            "8\n"
          ]
        }
      ]
    },
    {
      "cell_type": "code",
      "source": [
        "def greet(name):\n",
        "    print(f\"Hello, {name}!\")\n",
        "\n",
        "greet(\"John\")"
      ],
      "metadata": {
        "colab": {
          "base_uri": "https://localhost:8080/"
        },
        "id": "7KLMnvAhNIZ8",
        "outputId": "9fe0f29d-a9f5-44d2-f890-1414e43a8745"
      },
      "execution_count": null,
      "outputs": [
        {
          "output_type": "stream",
          "name": "stdout",
          "text": [
            "Hello, John!\n"
          ]
        }
      ]
    },
    {
      "cell_type": "code",
      "source": [
        "def square(num):\n",
        "    return num ** 2\n",
        "\n",
        "result = square(4)\n",
        "print(result)\n"
      ],
      "metadata": {
        "colab": {
          "base_uri": "https://localhost:8080/"
        },
        "id": "XLuRnnGyNLzZ",
        "outputId": "3898a701-21e7-4d9a-a138-02540e268eb2"
      },
      "execution_count": null,
      "outputs": [
        {
          "output_type": "stream",
          "name": "stdout",
          "text": [
            "16\n"
          ]
        }
      ]
    },
    {
      "cell_type": "markdown",
      "source": [
        "# 9-2 함수의 유형"
      ],
      "metadata": {
        "id": "1VCkuP4HNO7U"
      }
    },
    {
      "cell_type": "code",
      "source": [
        "def say_hello():\n",
        "    print(\"Hello!\")\n",
        "\n",
        "say_hello()\n"
      ],
      "metadata": {
        "colab": {
          "base_uri": "https://localhost:8080/"
        },
        "id": "yi3StUnqNRGs",
        "outputId": "19682df6-2351-48cb-e476-bcfd7c5a9896"
      },
      "execution_count": null,
      "outputs": [
        {
          "output_type": "stream",
          "name": "stdout",
          "text": [
            "Hello!\n"
          ]
        }
      ]
    },
    {
      "cell_type": "code",
      "source": [
        "def greet(name):\n",
        "    print(f\"Hello, {name}!\")\n",
        "\n",
        "greet(\"Alice\")\n"
      ],
      "metadata": {
        "colab": {
          "base_uri": "https://localhost:8080/"
        },
        "id": "MLIeuCjfNUjJ",
        "outputId": "b7f60c38-56a7-4ce5-f509-7206a0736534"
      },
      "execution_count": null,
      "outputs": [
        {
          "output_type": "stream",
          "name": "stdout",
          "text": [
            "Hello, Alice!\n"
          ]
        }
      ]
    },
    {
      "cell_type": "code",
      "source": [
        "def greet(name=\"Guest\"):\n",
        "    print(f\"Hello, {name}!\")\n",
        "\n",
        "greet()\n",
        "greet(\"Alice\")\n"
      ],
      "metadata": {
        "colab": {
          "base_uri": "https://localhost:8080/"
        },
        "id": "UbgBBHKrOr3e",
        "outputId": "836ed325-547d-4931-e45f-868fe17d413c"
      },
      "execution_count": null,
      "outputs": [
        {
          "output_type": "stream",
          "name": "stdout",
          "text": [
            "Hello, Guest!\n",
            "Hello, Alice!\n"
          ]
        }
      ]
    },
    {
      "cell_type": "code",
      "source": [
        "def new_greet(user=\"admin\",age=10):\n",
        "    print(f\"{user}님의 나이는 {age}살 입니다.\")\n",
        "\n",
        "new_greet()\n",
        "new_greet(\"Alice\",25)"
      ],
      "metadata": {
        "colab": {
          "base_uri": "https://localhost:8080/"
        },
        "id": "itFiHDJaOxl-",
        "outputId": "1cccb7a0-9084-48b6-bfcd-0cfe45c7f4cc"
      },
      "execution_count": null,
      "outputs": [
        {
          "output_type": "stream",
          "name": "stdout",
          "text": [
            "Alice님의 나이는 25살 입니다.\n",
            "admin님의 나이는 10살 입니다.\n"
          ]
        }
      ]
    },
    {
      "cell_type": "code",
      "source": [
        "def add_numbers(*args):\n",
        "    return sum(args)\n",
        "\n",
        "print(add_numbers(1, 2, 3))\n",
        "\n",
        "\n",
        "def print_info(**kwargs):\n",
        "    for key, value in kwargs.items():\n",
        "        print(f\"{key}: {value}\")\n",
        "\n",
        "print_info(name=\"Alice\", age=25)\n"
      ],
      "metadata": {
        "colab": {
          "base_uri": "https://localhost:8080/"
        },
        "id": "b29gKWcfPMoA",
        "outputId": "48653631-917e-4da5-a2c9-b62f15cf1145"
      },
      "execution_count": null,
      "outputs": [
        {
          "output_type": "stream",
          "name": "stdout",
          "text": [
            "6\n",
            "name: Alice\n",
            "age: 25\n"
          ]
        }
      ]
    },
    {
      "cell_type": "markdown",
      "source": [
        "# 9-3 lambda\n"
      ],
      "metadata": {
        "id": "zHugw3rQRaXo"
      }
    },
    {
      "cell_type": "code",
      "source": [
        "square = lambda x: x**2\n",
        "print(square(5))\n",
        "print(square(6))"
      ],
      "metadata": {
        "colab": {
          "base_uri": "https://localhost:8080/"
        },
        "id": "6st1p3gYRc_X",
        "outputId": "52377227-ef1f-422a-ab50-57c0255e456d"
      },
      "execution_count": null,
      "outputs": [
        {
          "output_type": "stream",
          "name": "stdout",
          "text": [
            "25\n",
            "36\n"
          ]
        }
      ]
    },
    {
      "cell_type": "code",
      "source": [
        "circle = lambda a, b, c: a * b * c\n",
        "print(circle(2, 4, 3))"
      ],
      "metadata": {
        "colab": {
          "base_uri": "https://localhost:8080/"
        },
        "id": "nTtS6bFqRgeB",
        "outputId": "f0dc50bf-88ea-4f96-c1e3-7c412d4bd0be"
      },
      "execution_count": null,
      "outputs": [
        {
          "output_type": "stream",
          "name": "stdout",
          "text": [
            "24\n"
          ]
        }
      ]
    },
    {
      "cell_type": "code",
      "source": [
        "numbers = [1,2,3,4,5]\n",
        "squares = list(map(lambda x:x**2, numbers))\n",
        "print(squares)"
      ],
      "metadata": {
        "colab": {
          "base_uri": "https://localhost:8080/"
        },
        "id": "_IB4_-7hRjms",
        "outputId": "e76ce97d-d83a-4750-fa5d-7866936782d6"
      },
      "execution_count": null,
      "outputs": [
        {
          "output_type": "stream",
          "name": "stdout",
          "text": [
            "[1, 4, 9, 16, 25]\n"
          ]
        }
      ]
    },
    {
      "cell_type": "code",
      "source": [
        "numbers = [10,15,21,30,33,40]\n",
        "result = list(filter(lambda x: x % 3 == 0, numbers))\n",
        "print(result)"
      ],
      "metadata": {
        "colab": {
          "base_uri": "https://localhost:8080/"
        },
        "id": "MCVuVWbzTNjK",
        "outputId": "84f0a031-8a75-4d19-c0a6-41f46f731538"
      },
      "execution_count": null,
      "outputs": [
        {
          "output_type": "stream",
          "name": "stdout",
          "text": [
            "[15, 21, 30, 33]\n"
          ]
        }
      ]
    },
    {
      "cell_type": "code",
      "source": [
        "students=[\n",
        "    (\"홍길동\",90),\n",
        "    (\"유관순\",60),\n",
        "    (\"이순신\",80),\n",
        "]\n",
        "sorted_students=sorted(students,key=lambda x:x[1],reverse=True)\n",
        "print(sorted_students)"
      ],
      "metadata": {
        "id": "WuxlbXkAW8_o",
        "colab": {
          "base_uri": "https://localhost:8080/"
        },
        "outputId": "ecf90c4c-7da7-4095-b00b-e4c23f2b4684"
      },
      "execution_count": 23,
      "outputs": [
        {
          "output_type": "stream",
          "name": "stdout",
          "text": [
            "[('홍길동', 90), ('이순신', 80), ('유관순', 60)]\n"
          ]
        }
      ]
    }
  ]
}